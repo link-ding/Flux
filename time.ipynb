{
 "cells": [
  {
   "cell_type": "code",
   "execution_count": 33,
   "metadata": {},
   "outputs": [
    {
     "name": "stdout",
     "output_type": "stream",
     "text": [
      "Activity: 昨天12点就睡觉了不知道为什么还是现在才醒。, Duration: 9.0 minutes, Time period: 11:51 - 12:00\n",
      "Activity: 处理了一下Dice Inn上面的事情, Duration: 27.0 minutes, Time period: 12:00 - 12:27\n",
      "Activity: 休息完毕开始继续搭建, Duration: 73.0 minutes, Time period: 12:27 - 13:40\n",
      "Activity: 继续搭建了一下，发现后端的内容更为重要，其实也可以使用 streamlit来暂时搭建，而且也可以验证用户。, Duration: 20.0 minutes, Time period: 13:40 - 14:00\n",
      "Activity: 帮Max做网页, Duration: 240.0 minutes, Time period: 14:00 - 18:00\n",
      "Activity: 结束, Duration: 30.0 minutes, Time period: 18:00 - 18:30\n",
      "Activity: 做饭, Duration: 60.0 minutes, Time period: 18:30 - 19:30\n",
      "Activity: 吃完饭, Duration: 30.0 minutes, Time period: 19:30 - 20:00\n",
      "Activity: 和MaxEmma打游戏, Duration: 90.0 minutes, Time period: 20:00 - 21:30\n",
      "Activity: 结束，修网线, Duration: 777.0 minutes, Time period: 21:30 - 10:27\n"
     ]
    }
   ],
   "source": [
    "import re\n",
    "from datetime import datetime, timedelta\n",
    "from IPython.display import clear_output\n",
    "\n",
    "text = \"\"\"\n",
    "11:51 昨天12点就睡觉了不知道为什么还是现在才醒。\n",
    "\n",
    "12:00 处理了一下Dice Inn上面的事情\n",
    "\n",
    "12:27 休息完毕开始继续搭建\n",
    "\n",
    "13:40 继续搭建了一下，发现后端的内容更为重要，其实也可以使用 streamlit来暂时搭建，而且也可以验证用户。\n",
    "\n",
    "14:00 帮Max做网页\n",
    "\n",
    "18:00 结束\n",
    "\n",
    "18:30 做饭\n",
    "\n",
    "19:30 吃完饭\n",
    "\n",
    "20:00 和MaxEmma打游戏\n",
    "\n",
    "21:30 结束，修网线\n",
    "\n",
    "10:27 和赖赖的朋友交流\n",
    "\"\"\"\n",
    "\n",
    "# 使用正则表达式提取所有的时间和活动\n",
    "pattern = r\"(\\d{2}:\\d{2}) (.*)\"\n",
    "matches = re.findall(pattern, text)\n",
    "\n",
    "# 将提取的时间转换为datetime对象\n",
    "times = [datetime.strptime(match[0], \"%H:%M\") for match in matches]\n",
    "\n",
    "# 计算每个活动的持续时间\n",
    "durations = [(times[i+1] - times[i]).seconds / 60 for i in range(len(times)-1)]\n",
    "\n",
    "# 打印每个活动的持续时间和时间段\n",
    "for i in range(len(matches)-1):\n",
    "    print(f\"Activity: {matches[i][1]}, Duration: {durations[i]} minutes, Time period: {matches[i][0]} - {matches[i+1][0]}\")"
   ]
  },
  {
   "cell_type": "code",
   "execution_count": 34,
   "metadata": {},
   "outputs": [
    {
     "data": {
      "text/plain": [
       "['Break',\n",
       " 'Dice Inn',\n",
       " 'TimeGPT',\n",
       " 'TimeGPT',\n",
       " 'Relationship',\n",
       " 'Break',\n",
       " 'Cooking',\n",
       " 'Eating',\n",
       " 'Relationship',\n",
       " 'Normal life']"
      ]
     },
     "execution_count": 34,
     "metadata": {},
     "output_type": "execute_result"
    }
   ],
   "source": [
    "import re\n",
    "categorized_data = \"\"\"\n",
    "Activity: Break, Duration: 9.0 minutes, Time period: 11:51 - 12:00\n",
    "Activity: Dice Inn, Duration: 27.0 minutes, Time period: 12:00 - 12:27\n",
    "Activity: TimeGPT, Duration: 73.0 minutes, Time period: 12:27 - 13:40\n",
    "Activity: TimeGPT, Duration: 20.0 minutes, Time period: 13:40 - 14:00\n",
    "Activity: Relationship, Duration: 240.0 minutes, Time period: 14:00 - 18:00\n",
    "Activity: Break, Duration: 30.0 minutes, Time period: 18:00 - 18:30\n",
    "Activity: Cooking, Duration: 60.0 minutes, Time period: 18:30 - 19:30\n",
    "Activity: Eating, Duration: 30.0 minutes, Time period: 19:30 - 20:00\n",
    "Activity: Relationship, Duration: 90.0 minutes, Time period: 20:00 - 21:30\n",
    "Activity: Normal life, Duration: 777.0 minutes, Time period: 21:30 - 10:27\n",
    "\"\"\"\n",
    "\n",
    "category_ls = re.findall(r\"Activity: (.*?),\", categorized_data)\n",
    "category_ls\n"
   ]
  },
  {
   "cell_type": "code",
   "execution_count": 35,
   "metadata": {},
   "outputs": [],
   "source": [
    "date = input('What date is today?')"
   ]
  },
  {
   "cell_type": "code",
   "execution_count": 36,
   "metadata": {},
   "outputs": [
    {
     "data": {
      "text/plain": [
       "[{'category': 'Break', 'date': '2024-02-04', 'period': '11:51 - 12:00'},\n",
       " {'category': 'Dice Inn', 'date': '2024-02-04', 'period': '12:00 - 12:27'},\n",
       " {'category': 'TimeGPT', 'date': '2024-02-04', 'period': '12:27 - 13:40'},\n",
       " {'category': 'TimeGPT', 'date': '2024-02-04', 'period': '13:40 - 14:00'},\n",
       " {'category': 'Relationship', 'date': '2024-02-04', 'period': '14:00 - 18:00'},\n",
       " {'category': 'Break', 'date': '2024-02-04', 'period': '18:00 - 18:30'},\n",
       " {'category': 'Cooking', 'date': '2024-02-04', 'period': '18:30 - 19:30'},\n",
       " {'category': 'Eating', 'date': '2024-02-04', 'period': '19:30 - 20:00'},\n",
       " {'category': 'Relationship', 'date': '2024-02-04', 'period': '20:00 - 21:30'},\n",
       " {'category': 'Normal life', 'date': '2024-02-04', 'period': '21:30 - 10:27'}]"
      ]
     },
     "execution_count": 36,
     "metadata": {},
     "output_type": "execute_result"
    }
   ],
   "source": [
    "combined_data = []\n",
    "for i in range(len(matches)-1):\n",
    "    cat_time = {}\n",
    "    cat_time[\"category\"] = category_ls[i]\n",
    "    cat_time[\"date\"] = date\n",
    "    cat_time[\"period\"] = f\"{matches[i][0]} - {matches[i+1][0]}\"\n",
    "    combined_data.append(cat_time)\n",
    "\n",
    "combined_data"
   ]
  },
  {
   "cell_type": "code",
   "execution_count": 37,
   "metadata": {},
   "outputs": [
    {
     "name": "stderr",
     "output_type": "stream",
     "text": [
      "/var/folders/kl/41_xy6jn0fjb_v9rc3gpwzgw0000gn/T/ipykernel_23303/605738716.py:11: FutureWarning: The frame.append method is deprecated and will be removed from pandas in a future version. Use pandas.concat instead.\n",
      "  df = df.append(new_data, ignore_index=True)\n"
     ]
    }
   ],
   "source": [
    "import pandas as pd\n",
    "\n",
    "\n",
    "# 从CSV文件中读取数据\n",
    "df = pd.read_csv('Data/combined_data.csv')\n",
    "\n",
    "# 假设new_data是你要添加的新数据\n",
    "new_data = pd.DataFrame(combined_data)\n",
    "\n",
    "# 将新数据添加到df\n",
    "df = df.append(new_data, ignore_index=True)\n",
    "\n",
    "# 将df保存回CSV文件\n",
    "df.to_csv('Data/combined_data.csv', index=False)"
   ]
  }
 ],
 "metadata": {
  "kernelspec": {
   "display_name": "base",
   "language": "python",
   "name": "python3"
  },
  "language_info": {
   "codemirror_mode": {
    "name": "ipython",
    "version": 3
   },
   "file_extension": ".py",
   "mimetype": "text/x-python",
   "name": "python",
   "nbconvert_exporter": "python",
   "pygments_lexer": "ipython3",
   "version": "3.11.0"
  }
 },
 "nbformat": 4,
 "nbformat_minor": 2
}
